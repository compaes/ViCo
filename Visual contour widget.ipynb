{
 "cells": [
  {
   "cell_type": "markdown",
   "metadata": {},
   "source": [
    "    (license note at the end of the file or https://github.com/compaes/Visual-Contour)"
   ]
  },
  {
   "cell_type": "markdown",
   "metadata": {},
   "source": [
    "[![Open In Colab](https://colab.research.google.com/assets/colab-badge.svg)](https://colab.research.google.com/github/mvilavidal/Visual-Contour/blob/main/Visual%20contour%20widget.ipynb)"
   ]
  },
  {
   "cell_type": "markdown",
   "metadata": {},
   "source": [
    "For use in Google Colab first run:"
   ]
  },
  {
   "cell_type": "code",
   "execution_count": null,
   "metadata": {},
   "outputs": [],
   "source": [
    "!git clone https://github.com/mvilavidal/Visual-Contour\n",
    "import sys\n",
    "sys.path.insert(0,'Visual-Contour/')\n",
    "import contourwidgetutils\n",
    "print('ready')"
   ]
  },
  {
   "cell_type": "markdown",
   "metadata": {},
   "source": [
    "# Visual contour widget"
   ]
  },
  {
   "cell_type": "markdown",
   "metadata": {},
   "source": [
    "Execute the following cell to use the widget"
   ]
  },
  {
   "cell_type": "code",
   "execution_count": 1,
   "metadata": {},
   "outputs": [
    {
     "data": {
      "application/vnd.jupyter.widget-view+json": {
       "model_id": "06ec57658e16419e924875d432ee8913",
       "version_major": 2,
       "version_minor": 0
      },
      "text/plain": [
       "interactive(children=(ToggleButton(value=False, description='Randomize structure'), IntSlider(value=10, contin…"
      ]
     },
     "metadata": {},
     "output_type": "display_data"
    }
   ],
   "source": [
    "import contourwidgetutils\n",
    "display(contourwidgetutils.widget)"
   ]
  },
  {
   "cell_type": "markdown",
   "metadata": {},
   "source": [
    "# Generate whole set"
   ]
  },
  {
   "cell_type": "markdown",
   "metadata": {},
   "source": [
    "Execute the following cell to generate the stimulus set. Choose the combinations of parameters v, d, t that you're interested in and click on 'Generate set'. The stimuli will be saved within the current folder, in a subfolder called 'stimulus_set_output'."
   ]
  },
  {
   "cell_type": "code",
   "execution_count": 2,
   "metadata": {},
   "outputs": [
    {
     "data": {
      "application/vnd.jupyter.widget-view+json": {
       "model_id": "7de98c006eea4e1e83ffd89eec0cb737",
       "version_major": 2,
       "version_minor": 0
      },
      "text/plain": [
       "VBox(children=(Label(value='Vertices (v): '), Box(children=(Checkbox(value=False, description='10', indent=Fal…"
      ]
     },
     "metadata": {},
     "output_type": "display_data"
    }
   ],
   "source": [
    "import contourwidgetutils\n",
    "display(contourwidgetutils.generator)"
   ]
  },
  {
   "cell_type": "markdown",
   "metadata": {},
   "source": [
    "    \n",
    "    \n",
    "    \n",
    "    \n",
    "    \n",
    "    \n",
    "    \n",
    "    \n",
    "    \n",
    "    \n",
    "    Copyright (C) 2022, Manel Vila-Vidal\n",
    "    Contact details: m@vila-vidal.com / manel.vila-vidal@upf.edu\n",
    "    Date: 10 Mar 2022\n",
    "    \n",
    "    -----------------------------------------------------------------------\n",
    "\n",
    "    This program is free software: you can redistribute it and/or modify\n",
    "    it under the terms of the GNU General Public License as published by\n",
    "    the Free Software Foundation, either version 3 of the License, or\n",
    "    (at your option) any later version.\n",
    "\n",
    "    This program is distributed in the hope that it will be useful,\n",
    "    but WITHOUT ANY WARRANTY; without even the implied warranty of\n",
    "    MERCHANTABILITY or FITNESS FOR A PARTICULAR PURPOSE.  See the\n",
    "    GNU General Public License for more details.\n",
    "\n",
    "    You should have received a copy of the GNU General Public License\n",
    "    along with this program.  If not, see <https://www.gnu.org/licenses/>.\n",
    "    \n",
    "    -----------------------------------------------------------------------\n",
    "    \n",
    "    If you use the source code, please make sure to reference both the\n",
    "    package and the paper:\n",
    "    \n",
    "    > Vila-Vidal, M. (2022). VisualContour v1.0,\n",
    "    https://github.com/compaes/Visual-Contour. Zenodo. (DOI)\n",
    "    \n",
    "    > REFERENCE PAPER"
   ]
  }
 ],
 "metadata": {
  "kernelspec": {
   "display_name": "Python 3",
   "language": "python",
   "name": "python3"
  },
  "language_info": {
   "codemirror_mode": {
    "name": "ipython",
    "version": 3
   },
   "file_extension": ".py",
   "mimetype": "text/x-python",
   "name": "python",
   "nbconvert_exporter": "python",
   "pygments_lexer": "ipython3",
   "version": "3.8.5"
  }
 },
 "nbformat": 4,
 "nbformat_minor": 4
}
